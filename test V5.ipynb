{
 "cells": [
  {
   "attachments": {},
   "cell_type": "markdown",
   "metadata": {},
   "source": [
    "# Predicting used car prices - Autotrade"
   ]
  },
  {
   "attachments": {},
   "cell_type": "markdown",
   "metadata": {},
   "source": [
    "### 1. Data Collection"
   ]
  },
  {
   "attachments": {},
   "cell_type": "markdown",
   "metadata": {},
   "source": [
    "#### Data source: https://www.autotrader.com.au/\n",
    "#### Scope: Perth WA, 25km radius from postcode 6000"
   ]
  },
  {
   "cell_type": "code",
   "execution_count": 27,
   "metadata": {},
   "outputs": [],
   "source": [
    "# Import libraries\n",
    "from splinter import Browser\n",
    "from bs4 import BeautifulSoup\n",
    "from selenium.webdriver.chrome.options import Options\n",
    "from selenium.webdriver.chrome.service import Service\n",
    "from selenium.webdriver.common.by import By\n",
    "from selenium.webdriver.support.ui import WebDriverWait\n",
    "from selenium.webdriver.support import expected_conditions as EC\n",
    "\n",
    "import os\n",
    "import json\n",
    "import time\n",
    "import random\n",
    "\n",
    "import pandas as pd"
   ]
  },
  {
   "cell_type": "code",
   "execution_count": 28,
   "metadata": {},
   "outputs": [
    {
     "name": "stdout",
     "output_type": "stream",
     "text": [
      "Starting web scraping\n",
      "-------------------------------------------------------------\n",
      "Page 4 - Status: completed and saved\n"
     ]
    },
    {
     "ename": "ElementClickInterceptedException",
     "evalue": "Message: element click intercepted: Element <div data-v-29165ae6=\"\" class=\"vehicleDetails--title\">...</div> is not clickable at point (110, 515). Other element would receive the click: <div class=\"form-actions\">...</div>\n  (Session info: chrome=113.0.5672.127)\nStacktrace:\nBacktrace:\n\tGetHandleVerifier [0x00C88893+48451]\n\t(No symbol) [0x00C1B8A1]\n\t(No symbol) [0x00B25058]\n\t(No symbol) [0x00B54BA4]\n\t(No symbol) [0x00B536E8]\n\t(No symbol) [0x00B51EEB]\n\t(No symbol) [0x00B512FE]\n\t(No symbol) [0x00B49AAC]\n\t(No symbol) [0x00B6A2BC]\n\t(No symbol) [0x00B49586]\n\t(No symbol) [0x00B6A614]\n\t(No symbol) [0x00B7C482]\n\t(No symbol) [0x00B6A0B6]\n\t(No symbol) [0x00B47E08]\n\t(No symbol) [0x00B48F2D]\n\tGetHandleVerifier [0x00EE8E3A+2540266]\n\tGetHandleVerifier [0x00F28959+2801161]\n\tGetHandleVerifier [0x00F2295C+2776588]\n\tGetHandleVerifier [0x00D12280+612144]\n\t(No symbol) [0x00C24F6C]\n\t(No symbol) [0x00C211D8]\n\t(No symbol) [0x00C212BB]\n\t(No symbol) [0x00C14857]\n\tBaseThreadInitThunk [0x76D100C9+25]\n\tRtlGetAppContainerNamedObjectPath [0x779D7B4E+286]\n\tRtlGetAppContainerNamedObjectPath [0x779D7B1E+238]\n",
     "output_type": "error",
     "traceback": [
      "\u001b[1;31m---------------------------------------------------------------------------\u001b[0m",
      "\u001b[1;31mElementClickInterceptedException\u001b[0m          Traceback (most recent call last)",
      "\u001b[1;32m~\\AppData\\Local\\Temp\\ipykernel_20768\\1424943957.py\u001b[0m in \u001b[0;36m<module>\u001b[1;34m\u001b[0m\n\u001b[0;32m     67\u001b[0m         \u001b[0mwait\u001b[0m \u001b[1;33m=\u001b[0m \u001b[0mWebDriverWait\u001b[0m\u001b[1;33m(\u001b[0m\u001b[0mbrowser\u001b[0m\u001b[1;33m.\u001b[0m\u001b[0mdriver\u001b[0m\u001b[1;33m,\u001b[0m \u001b[1;36m10\u001b[0m\u001b[1;33m)\u001b[0m\u001b[1;33m\u001b[0m\u001b[1;33m\u001b[0m\u001b[0m\n\u001b[0;32m     68\u001b[0m         \u001b[0mnext_button\u001b[0m \u001b[1;33m=\u001b[0m \u001b[0mwait\u001b[0m\u001b[1;33m.\u001b[0m\u001b[0muntil\u001b[0m\u001b[1;33m(\u001b[0m\u001b[0mEC\u001b[0m\u001b[1;33m.\u001b[0m\u001b[0melement_to_be_clickable\u001b[0m\u001b[1;33m(\u001b[0m\u001b[1;33m(\u001b[0m\u001b[0mBy\u001b[0m\u001b[1;33m.\u001b[0m\u001b[0mCSS_SELECTOR\u001b[0m\u001b[1;33m,\u001b[0m \u001b[1;34m'div.vehicleDetails--sectionHeader > div.vehicleDetails--title'\u001b[0m\u001b[1;33m)\u001b[0m\u001b[1;33m)\u001b[0m\u001b[1;33m)\u001b[0m\u001b[1;33m\u001b[0m\u001b[1;33m\u001b[0m\u001b[0m\n\u001b[1;32m---> 69\u001b[1;33m         \u001b[0mnext_button\u001b[0m\u001b[1;33m.\u001b[0m\u001b[0mclick\u001b[0m\u001b[1;33m(\u001b[0m\u001b[1;33m)\u001b[0m\u001b[1;33m\u001b[0m\u001b[1;33m\u001b[0m\u001b[0m\n\u001b[0m\u001b[0;32m     70\u001b[0m \u001b[1;33m\u001b[0m\u001b[0m\n\u001b[0;32m     71\u001b[0m         \u001b[1;31m# Scrape car details and append to car_data\u001b[0m\u001b[1;33m\u001b[0m\u001b[1;33m\u001b[0m\u001b[1;33m\u001b[0m\u001b[0m\n",
      "\u001b[1;32mc:\\Users\\User\\anaconda3\\envs\\PythonData\\lib\\site-packages\\selenium\\webdriver\\remote\\webelement.py\u001b[0m in \u001b[0;36mclick\u001b[1;34m(self)\u001b[0m\n\u001b[0;32m     79\u001b[0m     \u001b[1;32mdef\u001b[0m \u001b[0mclick\u001b[0m\u001b[1;33m(\u001b[0m\u001b[0mself\u001b[0m\u001b[1;33m)\u001b[0m \u001b[1;33m->\u001b[0m \u001b[1;32mNone\u001b[0m\u001b[1;33m:\u001b[0m\u001b[1;33m\u001b[0m\u001b[1;33m\u001b[0m\u001b[0m\n\u001b[0;32m     80\u001b[0m         \u001b[1;34m\"\"\"Clicks the element.\"\"\"\u001b[0m\u001b[1;33m\u001b[0m\u001b[1;33m\u001b[0m\u001b[0m\n\u001b[1;32m---> 81\u001b[1;33m         \u001b[0mself\u001b[0m\u001b[1;33m.\u001b[0m\u001b[0m_execute\u001b[0m\u001b[1;33m(\u001b[0m\u001b[0mCommand\u001b[0m\u001b[1;33m.\u001b[0m\u001b[0mCLICK_ELEMENT\u001b[0m\u001b[1;33m)\u001b[0m\u001b[1;33m\u001b[0m\u001b[1;33m\u001b[0m\u001b[0m\n\u001b[0m\u001b[0;32m     82\u001b[0m \u001b[1;33m\u001b[0m\u001b[0m\n\u001b[0;32m     83\u001b[0m     \u001b[1;32mdef\u001b[0m \u001b[0msubmit\u001b[0m\u001b[1;33m(\u001b[0m\u001b[0mself\u001b[0m\u001b[1;33m)\u001b[0m\u001b[1;33m:\u001b[0m\u001b[1;33m\u001b[0m\u001b[1;33m\u001b[0m\u001b[0m\n",
      "\u001b[1;32mc:\\Users\\User\\anaconda3\\envs\\PythonData\\lib\\site-packages\\selenium\\webdriver\\remote\\webelement.py\u001b[0m in \u001b[0;36m_execute\u001b[1;34m(self, command, params)\u001b[0m\n\u001b[0;32m    738\u001b[0m             \u001b[0mparams\u001b[0m \u001b[1;33m=\u001b[0m \u001b[1;33m{\u001b[0m\u001b[1;33m}\u001b[0m\u001b[1;33m\u001b[0m\u001b[1;33m\u001b[0m\u001b[0m\n\u001b[0;32m    739\u001b[0m         \u001b[0mparams\u001b[0m\u001b[1;33m[\u001b[0m\u001b[1;34m'id'\u001b[0m\u001b[1;33m]\u001b[0m \u001b[1;33m=\u001b[0m \u001b[0mself\u001b[0m\u001b[1;33m.\u001b[0m\u001b[0m_id\u001b[0m\u001b[1;33m\u001b[0m\u001b[1;33m\u001b[0m\u001b[0m\n\u001b[1;32m--> 740\u001b[1;33m         \u001b[1;32mreturn\u001b[0m \u001b[0mself\u001b[0m\u001b[1;33m.\u001b[0m\u001b[0m_parent\u001b[0m\u001b[1;33m.\u001b[0m\u001b[0mexecute\u001b[0m\u001b[1;33m(\u001b[0m\u001b[0mcommand\u001b[0m\u001b[1;33m,\u001b[0m \u001b[0mparams\u001b[0m\u001b[1;33m)\u001b[0m\u001b[1;33m\u001b[0m\u001b[1;33m\u001b[0m\u001b[0m\n\u001b[0m\u001b[0;32m    741\u001b[0m \u001b[1;33m\u001b[0m\u001b[0m\n\u001b[0;32m    742\u001b[0m     \u001b[1;32mdef\u001b[0m \u001b[0mfind_element\u001b[0m\u001b[1;33m(\u001b[0m\u001b[0mself\u001b[0m\u001b[1;33m,\u001b[0m \u001b[0mby\u001b[0m\u001b[1;33m=\u001b[0m\u001b[0mBy\u001b[0m\u001b[1;33m.\u001b[0m\u001b[0mID\u001b[0m\u001b[1;33m,\u001b[0m \u001b[0mvalue\u001b[0m\u001b[1;33m=\u001b[0m\u001b[1;32mNone\u001b[0m\u001b[1;33m)\u001b[0m\u001b[1;33m:\u001b[0m\u001b[1;33m\u001b[0m\u001b[1;33m\u001b[0m\u001b[0m\n",
      "\u001b[1;32mc:\\Users\\User\\anaconda3\\envs\\PythonData\\lib\\site-packages\\selenium\\webdriver\\remote\\webdriver.py\u001b[0m in \u001b[0;36mexecute\u001b[1;34m(self, driver_command, params)\u001b[0m\n\u001b[0;32m    428\u001b[0m         \u001b[0mresponse\u001b[0m \u001b[1;33m=\u001b[0m \u001b[0mself\u001b[0m\u001b[1;33m.\u001b[0m\u001b[0mcommand_executor\u001b[0m\u001b[1;33m.\u001b[0m\u001b[0mexecute\u001b[0m\u001b[1;33m(\u001b[0m\u001b[0mdriver_command\u001b[0m\u001b[1;33m,\u001b[0m \u001b[0mparams\u001b[0m\u001b[1;33m)\u001b[0m\u001b[1;33m\u001b[0m\u001b[1;33m\u001b[0m\u001b[0m\n\u001b[0;32m    429\u001b[0m         \u001b[1;32mif\u001b[0m \u001b[0mresponse\u001b[0m\u001b[1;33m:\u001b[0m\u001b[1;33m\u001b[0m\u001b[1;33m\u001b[0m\u001b[0m\n\u001b[1;32m--> 430\u001b[1;33m             \u001b[0mself\u001b[0m\u001b[1;33m.\u001b[0m\u001b[0merror_handler\u001b[0m\u001b[1;33m.\u001b[0m\u001b[0mcheck_response\u001b[0m\u001b[1;33m(\u001b[0m\u001b[0mresponse\u001b[0m\u001b[1;33m)\u001b[0m\u001b[1;33m\u001b[0m\u001b[1;33m\u001b[0m\u001b[0m\n\u001b[0m\u001b[0;32m    431\u001b[0m             response['value'] = self._unwrap_value(\n\u001b[0;32m    432\u001b[0m                 response.get('value', None))\n",
      "\u001b[1;32mc:\\Users\\User\\anaconda3\\envs\\PythonData\\lib\\site-packages\\selenium\\webdriver\\remote\\errorhandler.py\u001b[0m in \u001b[0;36mcheck_response\u001b[1;34m(self, response)\u001b[0m\n\u001b[0;32m    245\u001b[0m                 \u001b[0malert_text\u001b[0m \u001b[1;33m=\u001b[0m \u001b[0mvalue\u001b[0m\u001b[1;33m[\u001b[0m\u001b[1;34m'alert'\u001b[0m\u001b[1;33m]\u001b[0m\u001b[1;33m.\u001b[0m\u001b[0mget\u001b[0m\u001b[1;33m(\u001b[0m\u001b[1;34m'text'\u001b[0m\u001b[1;33m)\u001b[0m\u001b[1;33m\u001b[0m\u001b[1;33m\u001b[0m\u001b[0m\n\u001b[0;32m    246\u001b[0m             \u001b[1;32mraise\u001b[0m \u001b[0mexception_class\u001b[0m\u001b[1;33m(\u001b[0m\u001b[0mmessage\u001b[0m\u001b[1;33m,\u001b[0m \u001b[0mscreen\u001b[0m\u001b[1;33m,\u001b[0m \u001b[0mstacktrace\u001b[0m\u001b[1;33m,\u001b[0m \u001b[0malert_text\u001b[0m\u001b[1;33m)\u001b[0m  \u001b[1;31m# type: ignore[call-arg]  # mypy is not smart enough here\u001b[0m\u001b[1;33m\u001b[0m\u001b[1;33m\u001b[0m\u001b[0m\n\u001b[1;32m--> 247\u001b[1;33m         \u001b[1;32mraise\u001b[0m \u001b[0mexception_class\u001b[0m\u001b[1;33m(\u001b[0m\u001b[0mmessage\u001b[0m\u001b[1;33m,\u001b[0m \u001b[0mscreen\u001b[0m\u001b[1;33m,\u001b[0m \u001b[0mstacktrace\u001b[0m\u001b[1;33m)\u001b[0m\u001b[1;33m\u001b[0m\u001b[1;33m\u001b[0m\u001b[0m\n\u001b[0m\u001b[0;32m    248\u001b[0m \u001b[1;33m\u001b[0m\u001b[0m\n\u001b[0;32m    249\u001b[0m     \u001b[1;32mdef\u001b[0m \u001b[0m_value_or_default\u001b[0m\u001b[1;33m(\u001b[0m\u001b[0mself\u001b[0m\u001b[1;33m,\u001b[0m \u001b[0mobj\u001b[0m\u001b[1;33m:\u001b[0m \u001b[0mMapping\u001b[0m\u001b[1;33m[\u001b[0m\u001b[0m_KT\u001b[0m\u001b[1;33m,\u001b[0m \u001b[0m_VT\u001b[0m\u001b[1;33m]\u001b[0m\u001b[1;33m,\u001b[0m \u001b[0mkey\u001b[0m\u001b[1;33m:\u001b[0m \u001b[0m_KT\u001b[0m\u001b[1;33m,\u001b[0m \u001b[0mdefault\u001b[0m\u001b[1;33m:\u001b[0m \u001b[0m_VT\u001b[0m\u001b[1;33m)\u001b[0m \u001b[1;33m->\u001b[0m \u001b[0m_VT\u001b[0m\u001b[1;33m:\u001b[0m\u001b[1;33m\u001b[0m\u001b[1;33m\u001b[0m\u001b[0m\n",
      "\u001b[1;31mElementClickInterceptedException\u001b[0m: Message: element click intercepted: Element <div data-v-29165ae6=\"\" class=\"vehicleDetails--title\">...</div> is not clickable at point (110, 515). Other element would receive the click: <div class=\"form-actions\">...</div>\n  (Session info: chrome=113.0.5672.127)\nStacktrace:\nBacktrace:\n\tGetHandleVerifier [0x00C88893+48451]\n\t(No symbol) [0x00C1B8A1]\n\t(No symbol) [0x00B25058]\n\t(No symbol) [0x00B54BA4]\n\t(No symbol) [0x00B536E8]\n\t(No symbol) [0x00B51EEB]\n\t(No symbol) [0x00B512FE]\n\t(No symbol) [0x00B49AAC]\n\t(No symbol) [0x00B6A2BC]\n\t(No symbol) [0x00B49586]\n\t(No symbol) [0x00B6A614]\n\t(No symbol) [0x00B7C482]\n\t(No symbol) [0x00B6A0B6]\n\t(No symbol) [0x00B47E08]\n\t(No symbol) [0x00B48F2D]\n\tGetHandleVerifier [0x00EE8E3A+2540266]\n\tGetHandleVerifier [0x00F28959+2801161]\n\tGetHandleVerifier [0x00F2295C+2776588]\n\tGetHandleVerifier [0x00D12280+612144]\n\t(No symbol) [0x00C24F6C]\n\t(No symbol) [0x00C211D8]\n\t(No symbol) [0x00C212BB]\n\t(No symbol) [0x00C14857]\n\tBaseThreadInitThunk [0x76D100C9+25]\n\tRtlGetAppContainerNamedObjectPath [0x779D7B4E+286]\n\tRtlGetAppContainerNamedObjectPath [0x779D7B1E+238]\n"
     ]
    }
   ],
   "source": [
    "# Empty list to store car data\n",
    "car_data_set = []\n",
    "\n",
    "# Set the number of pages you want to scrape\n",
    "strating_page = 3\n",
    "num_pages = 10\n",
    "\n",
    "# Scrape data from multiple pages\n",
    "print(f'Starting web scraping')\n",
    "print('-------------------------------------------------------------')\n",
    "\n",
    "for page in range(strating_page, num_pages+strating_page):\n",
    "\n",
    "    # Set up Splinter\n",
    "    driver_path = os.path.join(os.path.expanduser(\"~\"),\"Documents\", \"DATA ANALYTICS BOOTCAMP\", \"Apps\", \"chromedriver_win32\", \"chromedriver.exe\")\n",
    "\n",
    "    chrome_options = Options()\n",
    "    chrome_options.add_argument(\"--incognito\")\n",
    "\n",
    "    browser = Browser('chrome', service=Service(executable_path=driver_path), options=chrome_options)\n",
    "\n",
    "    # Visit the Mars news site\n",
    "    url = f'https://www.autotrader.com.au/for-sale/wa/perth?page={(page+1)}&distance=25'\n",
    "    browser.visit(url)\n",
    "    html = browser.html\n",
    "\n",
    "    # Create a Beautiful Soup object\n",
    "    soup = BeautifulSoup(html, 'html.parser')\n",
    "\n",
    "    # Get all car listings\n",
    "    car_listing = soup.find_all('a', class_='carListing')\n",
    "\n",
    "    # Scrape car data from car listings\n",
    "    for i in range(len(car_listing)):\n",
    "        \n",
    "        # Create an empty dictionary to store individual car data\n",
    "        car_data = {}\n",
    "\n",
    "        # Scrape year model and append to car_data\n",
    "        h3 = car_listing[i].find('h3', class_='carListing--title')\n",
    "        year_model = h3.contents[0].strip()\n",
    "        car_data['Year model'] = year_model\n",
    "\n",
    "        # Click on the car listing\n",
    "        wait = WebDriverWait(browser.driver, 10)\n",
    "        car_listing = wait.until(EC.presence_of_all_elements_located((By.CSS_SELECTOR, 'a.carListing')))\n",
    "        car_listing[i].click()\n",
    "\n",
    "        # Wait for the details page to load\n",
    "        time.sleep(3)\n",
    "\n",
    "        # Get the HTML of the current page after clicking the button\n",
    "        html = browser.html\n",
    "\n",
    "        # Create a Beautiful Soup object\n",
    "        soup_details = BeautifulSoup(html, 'html.parser')\n",
    "\n",
    "        # Scrape car spec and append to car_data\n",
    "        h1 = soup_details.find('h1', class_='title')\n",
    "        if h1 is not None:\n",
    "            car_spec = h1.get_text(strip=True)\n",
    "            car_data['Car Spec'] = car_spec\n",
    "        else:\n",
    "            car_data['Car Spec'] = \"\"\n",
    "\n",
    "        # Find the button element for the next click (see more details)\n",
    "        wait = WebDriverWait(browser.driver, 10)\n",
    "        next_button = wait.until(EC.element_to_be_clickable((By.CSS_SELECTOR, 'div.vehicleDetails--sectionHeader > div.vehicleDetails--title')))\n",
    "        next_button.click()\n",
    "\n",
    "        # Scrape car details and append to car_data\n",
    "        tr = soup_details.find_all('tr', class_='table--row')\n",
    "\n",
    "        for row in tr:\n",
    "            label = row.find('td', class_='table--label')\n",
    "            value = row.find('td', class_='table--value')\n",
    "\n",
    "            label_text = label.get_text(strip=True)\n",
    "            value_text = value.get_text(strip=True)\n",
    "\n",
    "            car_data[label_text] = value_text\n",
    "\n",
    "        # Append the car data dictionary to the list\n",
    "        car_data_set.append(car_data)\n",
    "\n",
    "        # Find the button element for the back click (back to the car listings)\n",
    "        wait = WebDriverWait(browser.driver, 10)\n",
    "        back_button = wait.until(EC.element_to_be_clickable((By.CSS_SELECTOR, 'a.detailsBackButton')))\n",
    "        back_button.click()\n",
    "\n",
    "        # Wait for the car listings page to load\n",
    "        time.sleep(3)\n",
    "\n",
    "        # Re-find the car listings\n",
    "        car_listing = soup.find_all('a', class_='carListing')\n",
    "\n",
    "    # Quit the browser\n",
    "    browser.quit()\n",
    "\n",
    "    # Create DataFrame with the scraped data\n",
    "    car_df = pd.DataFrame(car_data_set)\n",
    "    car_df.head()\n",
    "\n",
    "    # Save the data and export data to csv file\n",
    "    car_df.to_csv(f'output_from_{strating_page+1}_to_{page+1}.csv', index=False)\n",
    "\n",
    "    # Print progress\n",
    "    print(f'Page {page+1} - Status: completed and saved')"
   ]
  }
 ],
 "metadata": {
  "kernelspec": {
   "display_name": "PythonData",
   "language": "python",
   "name": "python3"
  },
  "language_info": {
   "codemirror_mode": {
    "name": "ipython",
    "version": 3
   },
   "file_extension": ".py",
   "mimetype": "text/x-python",
   "name": "python",
   "nbconvert_exporter": "python",
   "pygments_lexer": "ipython3",
   "version": "3.7.7"
  },
  "orig_nbformat": 4
 },
 "nbformat": 4,
 "nbformat_minor": 2
}
